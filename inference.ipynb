{
 "cells": [
  {
   "cell_type": "markdown",
   "metadata": {},
   "source": [
    "## Loading Data\n"
   ]
  },
  {
   "cell_type": "code",
   "execution_count": 1,
   "metadata": {},
   "outputs": [],
   "source": [
    "from time import time, localtime, strftime\n",
    "t00 = time()\n",
    "import numpy as np\n",
    "import pandas as pd"
   ]
  },
  {
   "cell_type": "code",
   "execution_count": 16,
   "metadata": {
    "scrolled": true
   },
   "outputs": [
    {
     "name": "stdout",
     "output_type": "stream",
     "text": [
      "csv\n"
     ]
    }
   ],
   "source": [
    "import boto3\n",
    "BUCKET_NAME = 'ramcell-test-spectra-source'\n",
    "#OBJECT_NAME = 'Glucose 500mW 10sec.txt'\n",
    "OBJECT_NAME = 'Glucose 500mW 10sec.csv'\n",
    "\n",
    "ext = OBJECT_NAME.split('.')[1]\n",
    "print(ext)\n",
    "s3 = boto3.client('s3')\n",
    "target_data_path = './download/inference_target_data.'+ext\n",
    "s3.download_file(BUCKET_NAME, OBJECT_NAME,target_data_path)"
   ]
  },
  {
   "cell_type": "code",
   "execution_count": 17,
   "metadata": {},
   "outputs": [
    {
     "data": {
      "text/html": [
       "<div>\n",
       "<style scoped>\n",
       "    .dataframe tbody tr th:only-of-type {\n",
       "        vertical-align: middle;\n",
       "    }\n",
       "\n",
       "    .dataframe tbody tr th {\n",
       "        vertical-align: top;\n",
       "    }\n",
       "\n",
       "    .dataframe thead th {\n",
       "        text-align: right;\n",
       "    }\n",
       "</style>\n",
       "<table border=\"1\" class=\"dataframe\">\n",
       "  <thead>\n",
       "    <tr style=\"text-align: right;\">\n",
       "      <th></th>\n",
       "      <th>0</th>\n",
       "      <th>1</th>\n",
       "    </tr>\n",
       "  </thead>\n",
       "  <tbody>\n",
       "    <tr>\n",
       "      <th>0</th>\n",
       "      <td>200</td>\n",
       "      <td>0.411580</td>\n",
       "    </tr>\n",
       "    <tr>\n",
       "      <th>1</th>\n",
       "      <td>202</td>\n",
       "      <td>0.409614</td>\n",
       "    </tr>\n",
       "    <tr>\n",
       "      <th>2</th>\n",
       "      <td>204</td>\n",
       "      <td>0.396415</td>\n",
       "    </tr>\n",
       "    <tr>\n",
       "      <th>3</th>\n",
       "      <td>206</td>\n",
       "      <td>0.366997</td>\n",
       "    </tr>\n",
       "    <tr>\n",
       "      <th>4</th>\n",
       "      <td>208</td>\n",
       "      <td>0.337126</td>\n",
       "    </tr>\n",
       "    <tr>\n",
       "      <th>...</th>\n",
       "      <td>...</td>\n",
       "      <td>...</td>\n",
       "    </tr>\n",
       "    <tr>\n",
       "      <th>796</th>\n",
       "      <td>1792</td>\n",
       "      <td>0.002881</td>\n",
       "    </tr>\n",
       "    <tr>\n",
       "      <th>797</th>\n",
       "      <td>1794</td>\n",
       "      <td>0.007320</td>\n",
       "    </tr>\n",
       "    <tr>\n",
       "      <th>798</th>\n",
       "      <td>1796</td>\n",
       "      <td>0.007649</td>\n",
       "    </tr>\n",
       "    <tr>\n",
       "      <th>799</th>\n",
       "      <td>1798</td>\n",
       "      <td>0.005462</td>\n",
       "    </tr>\n",
       "    <tr>\n",
       "      <th>800</th>\n",
       "      <td>1800</td>\n",
       "      <td>-0.008065</td>\n",
       "    </tr>\n",
       "  </tbody>\n",
       "</table>\n",
       "<p>801 rows × 2 columns</p>\n",
       "</div>"
      ],
      "text/plain": [
       "        0         1\n",
       "0     200  0.411580\n",
       "1     202  0.409614\n",
       "2     204  0.396415\n",
       "3     206  0.366997\n",
       "4     208  0.337126\n",
       "..    ...       ...\n",
       "796  1792  0.002881\n",
       "797  1794  0.007320\n",
       "798  1796  0.007649\n",
       "799  1798  0.005462\n",
       "800  1800 -0.008065\n",
       "\n",
       "[801 rows x 2 columns]"
      ]
     },
     "execution_count": 17,
     "metadata": {},
     "output_type": "execute_result"
    }
   ],
   "source": [
    "if ext == 'txt' : data = pd.read_csv(target_data_path, sep=\"\\t\", header=None)\n",
    "else : data = pd.read_csv(target_data_path, header=None)\n",
    "data"
   ]
  },
  {
   "cell_type": "code",
   "execution_count": 19,
   "metadata": {},
   "outputs": [
    {
     "data": {
      "image/png": "[encoded data removed]",
      "text/plain": [
       "<Figure size 432x288 with 1 Axes>"
      ]
     },
     "metadata": {
      "needs_background": "light"
     },
     "output_type": "display_data"
    }
   ],
   "source": [
    "%matplotlib inline\n",
    "import matplotlib.pyplot as plt\n",
    "X_axis = np.arange(0,1000)\n",
    "data_npy = data[1].to_numpy()\n",
    "input_data = np.interp(X_axis,np.linspace(0,1000,num=data_npy.shape[0]),data_npy)\n",
    "\n",
    "plt.plot(X_axis,input_data)\n",
    "X = input_data.reshape(1,1000)"
   ]
  },
  {
   "cell_type": "markdown",
   "metadata": {},
   "source": [
    "## Loading pre-trained CNN\n"
   ]
  },
  {
   "cell_type": "code",
   "execution_count": 31,
   "metadata": {},
   "outputs": [],
   "source": [
    "from resnet import ResNet\n",
    "import os\n",
    "import torch"
   ]
  },
  {
   "cell_type": "code",
   "execution_count": 32,
   "metadata": {},
   "outputs": [
    {
     "name": "stdout",
     "output_type": "stream",
     "text": [
      "Current cuda device  2\n"
     ]
    }
   ],
   "source": [
    "# CNN parameters\n",
    "layers = 6\n",
    "hidden_size = 100\n",
    "block_size = 2\n",
    "hidden_sizes = [hidden_size] * layers\n",
    "num_blocks = [block_size] * layers\n",
    "input_dim = 1000\n",
    "in_channels = 64\n",
    "n_classes = 30\n",
    "\n",
    "GPU_NUM = 3 # 원하는 GPU 번호 입력\n",
    "device = torch.device(f'cuda:{GPU_NUM}' if torch.cuda.is_available() else 'cpu')\n",
    "torch.cuda.set_device(device) # change allocation of current GPU\n",
    "print ('Current cuda device ', torch.cuda.current_device()) # check\n",
    "if device != 'cpu' : cuda = True"
   ]
  },
  {
   "cell_type": "code",
   "execution_count": 33,
   "metadata": {},
   "outputs": [
    {
     "data": {
      "text/plain": [
       "<All keys matched successfully>"
      ]
     },
     "execution_count": 33,
     "metadata": {},
     "output_type": "execute_result"
    }
   ],
   "source": [
    "# Load trained weights for demo\n",
    "cnn = ResNet(hidden_sizes, num_blocks, input_dim=input_dim,\n",
    "                in_channels=in_channels, n_classes=n_classes)\n",
    "cnn.cuda()\n",
    "cnn.load_state_dict(torch.load(\n",
    "    './finetuned_22-07-17-11-22.ckpt', map_location=lambda storage, loc: storage))"
   ]
  },
  {
   "cell_type": "code",
   "execution_count": 45,
   "metadata": {},
   "outputs": [
    {
     "name": "stdout",
     "output_type": "stream",
     "text": [
      "(1000,)\n"
     ]
    },
    {
     "data": {
      "text/plain": [
       "(1, 1000)"
      ]
     },
     "execution_count": 45,
     "metadata": {},
     "output_type": "execute_result"
    }
   ],
   "source": [
    "print(input_data.shape)\n",
    "y = np.array([0])"
   ]
  },
  {
   "cell_type": "markdown",
   "metadata": {},
   "source": [
    "### Train/val split\n",
    "We split the fine-tuning dataset into train and validation sets. We randomly sample 10% of the dataset to use as a validation set."
   ]
  },
  {
   "cell_type": "code",
   "execution_count": 57,
   "metadata": {},
   "outputs": [
    {
     "name": "stdout",
     "output_type": "stream",
     "text": [
      "[27] 0 [[6.3968636e-10 7.0735995e-13 4.5107615e-09 9.8130007e-14 2.4486875e-12\n",
      "  1.7372408e-12 4.5400466e-21 1.2911078e-17 8.6191084e-14 3.9316110e-05\n",
      "  1.4008052e-10 2.3127211e-09 2.7135056e-17 3.0382576e-13 6.1215089e-26\n",
      "  2.6362528e-13 3.7042109e-11 6.5224136e-16 2.8720414e-02 9.1190341e-27\n",
      "  1.8286423e-15 2.4442026e-09 2.5195683e-09 1.5090598e-07 5.0183149e-17\n",
      "  6.0392555e-13 2.2850792e-17 9.7124016e-01 2.4318293e-12 7.8796491e-13]]\n",
      "train accuracy = 0.0%\n"
     ]
    }
   ],
   "source": [
    "from training import get_predictions\n",
    "from datasets import spectral_dataloader\n",
    "\n",
    "dl_test = spectral_dataloader(X, y,batch_size=1,num_workers=1)\n",
    "preds_test, corr_test = get_predictions(cnn,dl_test,cuda)\n",
    "prob_test= get_predictions(cnn,dl_test,cuda,get_probs=True)\n",
    "\n",
    "print(preds_test,corr_test,prob_test)\n",
    "print(\"train accuracy = {}%\".format(corr_test/1*100))"
   ]
  },
  {
   "cell_type": "code",
   "execution_count": 59,
   "metadata": {},
   "outputs": [
    {
     "data": {
      "text/plain": [
       "array([[19, 14,  6,  7, 26, 12, 24, 17, 20,  8,  3, 15, 13, 25,  1, 29,\n",
       "         5, 28,  4, 16, 10,  0, 11, 21, 22,  2, 23,  9, 18, 27]])"
      ]
     },
     "execution_count": 59,
     "metadata": {},
     "output_type": "execute_result"
    }
   ],
   "source": [
    "prob_test.argsort()"
   ]
  },
  {
   "cell_type": "code",
   "execution_count": 7,
   "metadata": {},
   "outputs": [],
   "source": [
    "p_val = 0.1\n",
    "n_val = int(3000 * p_val)\n",
    "idx_tr = list(range(3000))\n",
    "np.random.shuffle(idx_tr)\n",
    "idx_val = idx_tr[:n_val]\n",
    "idx_tr = idx_tr[n_val:]\n",
    "\n",
    "# Fine-tune CNN\n",
    "epochs = 30 # Change this number to ~30 for full training\n",
    "batch_size = 500\n",
    "t0 = time()\n",
    "# Set up Adam optimizer\n",
    "optimizer = optim.Adam(cnn.parameters(), lr=1e-3, betas=(0.5, 0.999))\n",
    "# Set up dataloaders\n",
    "dl_tr = spectral_dataloader(X, y, idxs=idx_tr,\n",
    "    batch_size=batch_size, shuffle=True)\n",
    "dl_val = spectral_dataloader(X, y, idxs=idx_val,\n",
    "    batch_size=batch_size, shuffle=False)"
   ]
  },
  {
   "cell_type": "code",
   "execution_count": 8,
   "metadata": {},
   "outputs": [
    {
     "name": "stdout",
     "output_type": "stream",
     "text": [
      "Starting Fine-tune!\n",
      " Epoch 1: 0.01s\n",
      "  Train acc: 65.41\n",
      "  Val acc  : 75.33\n",
      " Epoch 2: 2.57s\n",
      "  Train acc: 81.96\n",
      "  Val acc  : 85.33\n",
      " Epoch 3: 4.85s\n",
      "  Train acc: 87.44\n",
      "  Val acc  : 88.33\n",
      " Epoch 4: 7.06s\n",
      "  Train acc: 92.26\n",
      "  Val acc  : 88.67\n",
      " Epoch 5: 9.33s\n",
      "  Train acc: 94.52\n",
      "  Val acc  : 91.67\n",
      " Epoch 6: 11.58s\n",
      "  Train acc: 96.89\n",
      "  Val acc  : 94.00\n",
      " Epoch 7: 13.90s\n",
      "  Train acc: 98.19\n",
      "  Val acc  : 92.67\n",
      " Epoch 8: 16.17s\n",
      "  Train acc: 98.96\n",
      "  Val acc  : 93.33\n",
      " Epoch 9: 18.48s\n",
      "  Train acc: 99.63\n",
      "  Val acc  : 94.00\n",
      " Epoch 10: 20.79s\n",
      "  Train acc: 99.81\n",
      "  Val acc  : 93.33\n",
      " Epoch 11: 23.15s\n",
      "  Train acc: 100.00\n",
      "  Val acc  : 94.00\n",
      "Finished after 11 epochs!\n",
      "\n",
      " completed in: 29.32s\n"
     ]
    }
   ],
   "source": [
    "\n",
    "# Fine-tune CNN for first fold\n",
    "best_val = 0\n",
    "no_improvement = 0\n",
    "max_no_improvement = 5\n",
    "print('Starting Fine-tune!')\n",
    "for epoch in range(epochs):\n",
    "    print(' Epoch {}: {:0.2f}s'.format(epoch+1, time()-t0))\n",
    "    # Train\n",
    "    acc_tr, loss_tr = run_epoch(epoch, cnn, dl_tr, cuda,\n",
    "        training=True, optimizer=optimizer)\n",
    "    print('  Train acc: {:0.2f}'.format(acc_tr))\n",
    "    # Val\n",
    "    acc_val, loss_val = run_epoch(epoch, cnn, dl_val, cuda,\n",
    "        training=False, optimizer=optimizer)\n",
    "    print('  Val acc  : {:0.2f}'.format(acc_val))\n",
    "    # Check performance for early stopping\n",
    "    if acc_val > best_val or epoch == 0:\n",
    "        best_val = acc_val\n",
    "        no_improvement = 0\n",
    "        best_model = cnn\n",
    "    else:\n",
    "        no_improvement += 1\n",
    "    if no_improvement >= max_no_improvement:\n",
    "        print('Finished after {} epochs!'.format(epoch+1))\n",
    "        break\n",
    "\n",
    "torch.save(best_model.state_dict()\n",
    "           ,'finetuned_'+strftime('%y-%m-%d-%H-%M',localtime(t00))+'.ckpt')\n",
    "\n",
    "print('\\n completed in: {:0.2f}s'.format(time()-t00))"
   ]
  },
  {
   "cell_type": "markdown",
   "metadata": {},
   "source": [
    "The accuracies seen here are not representative of the accuracies achieved when training on the full dataset until convergence. To do this, increase the number of epoches. This code demonstrates how a pre-trained CNN can be fine-tuned and evaluated using randomly selected train/validation splits."
   ]
  },
  {
   "cell_type": "code",
   "execution_count": 9,
   "metadata": {},
   "outputs": [],
   "source": [
    "from training import get_predictions\n",
    "import numpy as np"
   ]
  },
  {
   "cell_type": "code",
   "execution_count": 10,
   "metadata": {},
   "outputs": [
    {
     "name": "stdout",
     "output_type": "stream",
     "text": [
      "(3000, 1000) (3000,)\n"
     ]
    }
   ],
   "source": [
    "X_test = './data/X_test.npy'\n",
    "y_test = './data/y_test.npy'\n",
    "X = np.load(X_test)\n",
    "y = np.load(y_test)\n",
    "print(X.shape, y.shape)\n",
    "dl_test = spectral_dataloader(X, y, batch_size=batch_size, shuffle=True)"
   ]
  },
  {
   "cell_type": "code",
   "execution_count": 12,
   "metadata": {},
   "outputs": [
    {
     "name": "stdout",
     "output_type": "stream",
     "text": [
      "train accuracy = 100.0%\n",
      "validation accuracy = 94.0%\n",
      "test accuracy = 83.13333333333334%\n"
     ]
    }
   ],
   "source": [
    "preds_tr, corr_tr = get_predictions(best_model,dl_tr,cuda)\n",
    "preds_val, corr_val = get_predictions(best_model,dl_val,cuda)\n",
    "preds_test, corr_test = get_predictions(best_model,dl_test,cuda)\n",
    "print(\"train accuracy = {}%\".format(corr_tr/2700*100))\n",
    "print(\"validation accuracy = {}%\".format(corr_val/300*100))\n",
    "print(\"test accuracy = {}%\".format(corr_test/3000*100))"
   ]
  },
  {
   "cell_type": "code",
   "execution_count": null,
   "metadata": {},
   "outputs": [],
   "source": []
  }
 ],
 "metadata": {
  "kernelspec": {
   "display_name": "Python 3 (ipykernel)",
   "language": "python",
   "name": "python3"
  },
  "language_info": {
   "codemirror_mode": {
    "name": "ipython",
    "version": 3
   },
   "file_extension": ".py",
   "mimetype": "text/x-python",
   "name": "python",
   "nbconvert_exporter": "python",
   "pygments_lexer": "ipython3",
   "version": "3.7.10"
  }
 },
 "nbformat": 4,
 "nbformat_minor": 2
}
