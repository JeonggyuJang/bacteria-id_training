{
 "cells": [
  {
   "cell_type": "markdown",
   "metadata": {},
   "source": [
    "# Fine-tuning on the reference dataset\n",
    "In this notebook, we'll demonstrate fine-tuning a pre-trained CNN on the 30-isolate classification task shown in Figure 2. In this example, fine-tuning serves to update the CNN to new measurement parameters. This code illustrates the procedure described in the `CNN architecture & training details` section in the Methods. Note that for speed and clarity, this demo only trains on a single randomly selected train and validation split."
   ]
  },
  {
   "cell_type": "markdown",
   "metadata": {},
   "source": [
    "## Loading data\n",
    "The first step is to load the fine-tuning dataset."
   ]
  },
  {
   "cell_type": "code",
   "execution_count": 1,
   "metadata": {},
   "outputs": [],
   "source": [
    "from time import time, localtime, strftime\n",
    "t00 = time()\n",
    "import numpy as np"
   ]
  },
  {
   "cell_type": "code",
   "execution_count": 2,
   "metadata": {},
   "outputs": [
    {
     "name": "stdout",
     "output_type": "stream",
     "text": [
      "(3000, 1000) (3000,)\n"
     ]
    }
   ],
   "source": [
    "X_fn = './data/X_finetune.npy'\n",
    "y_fn = './data/y_finetune.npy'\n",
    "X = np.load(X_fn)\n",
    "y = np.load(y_fn)\n",
    "print(X.shape, y.shape)"
   ]
  },
  {
   "cell_type": "markdown",
   "metadata": {},
   "source": [
    "## Loading pre-trained CNN\n",
    "Now we set up a ResNet CNN and load weights that we previously trained for the 30-isolate task using the full training dataset. "
   ]
  },
  {
   "cell_type": "code",
   "execution_count": 3,
   "metadata": {},
   "outputs": [],
   "source": [
    "from resnet import ResNet\n",
    "import os\n",
    "import torch"
   ]
  },
  {
   "cell_type": "code",
   "execution_count": 4,
   "metadata": {},
   "outputs": [
    {
     "name": "stdout",
     "output_type": "stream",
     "text": [
      "Current cuda device  2\n"
     ]
    }
   ],
   "source": [
    "# CNN parameters\n",
    "layers = 8 #6\n",
    "hidden_size = 256 #100\n",
    "block_size = 2\n",
    "hidden_sizes = [hidden_size] * layers\n",
    "num_blocks = [block_size] * layers\n",
    "input_dim = 1000\n",
    "in_channels = 128 #64\n",
    "n_classes = 30\n",
    "\n",
    "GPU_NUM = 2 # 원하는 GPU 번호 입력\n",
    "device = torch.device(f'cuda:{GPU_NUM}' if torch.cuda.is_available() else 'cpu')\n",
    "torch.cuda.set_device(device) # change allocation of current GPU\n",
    "print ('Current cuda device ', torch.cuda.current_device()) # check\n",
    "if device != 'cpu' : cuda = True"
   ]
  },
  {
   "cell_type": "code",
   "execution_count": 5,
   "metadata": {},
   "outputs": [
    {
     "name": "stdout",
     "output_type": "stream",
     "text": [
      "- - one layer classifier [2048]- - \n"
     ]
    },
    {
     "data": {
      "text/plain": [
       "<All keys matched successfully>"
      ]
     },
     "execution_count": 5,
     "metadata": {},
     "output_type": "execute_result"
    }
   ],
   "source": [
    "# Load trained weights for demo\n",
    "cnn = ResNet(hidden_sizes, num_blocks, input_dim=input_dim,\n",
    "                in_channels=in_channels, n_classes=n_classes)\n",
    "cnn.cuda()\n",
    "cnn.load_state_dict(torch.load(\n",
    "    './pretrained_22-08-22-08-55.ckpt', map_location=lambda storage, loc: storage))"
   ]
  },
  {
   "cell_type": "markdown",
   "metadata": {},
   "source": [
    "## Fine-tuning\n",
    "Now we can fine-tune the pre-trained CNN on the new fine-tuning dataset. In the experiments reported in the paper, we fine-tune across 5 randomly selected train and validation splits, but here we show just one split for clarity. We also only train for one epoch here in the interest of time. To train the CNN to convergence, we recommend setting the number of epochs to ~30."
   ]
  },
  {
   "cell_type": "code",
   "execution_count": 6,
   "metadata": {},
   "outputs": [],
   "source": [
    "from datasets import spectral_dataloader\n",
    "from training import run_epoch\n",
    "from torch import optim"
   ]
  },
  {
   "cell_type": "markdown",
   "metadata": {},
   "source": [
    "### Train/val split\n",
    "We split the fine-tuning dataset into train and validation sets. We randomly sample 10% of the dataset to use as a validation set."
   ]
  },
  {
   "cell_type": "code",
   "execution_count": 7,
   "metadata": {},
   "outputs": [
    {
     "name": "stdout",
     "output_type": "stream",
     "text": [
      "(3000, 1000) (3000,)\n"
     ]
    }
   ],
   "source": [
    "p_val = 0.1\n",
    "n_val = int(3000 * p_val)\n",
    "idx_tr = list(range(3000))\n",
    "np.random.shuffle(idx_tr)\n",
    "idx_val = idx_tr[:n_val]\n",
    "idx_tr = idx_tr[n_val:]\n",
    "\n",
    "# Fine-tune CNN\n",
    "epochs = 500 # Change this number to ~30 for full training\n",
    "batch_size = 10\n",
    "t0 = time()\n",
    "# Set up Adam optimizer\n",
    "optimizer = optim.Adam(cnn.parameters(), lr=1e-4, betas=(0.5, 0.999))\n",
    "# Set up dataloaders\n",
    "print(X.shape, y.shape)\n",
    "dl_tr = spectral_dataloader(X, y, idxs=idx_tr,\n",
    "    batch_size=batch_size, shuffle=True)\n",
    "dl_val = spectral_dataloader(X, y, idxs=idx_val,\n",
    "    batch_size=batch_size, shuffle=False)"
   ]
  },
  {
   "cell_type": "code",
   "execution_count": 8,
   "metadata": {},
   "outputs": [
    {
     "name": "stdout",
     "output_type": "stream",
     "text": [
      "Starting Fine-tune!\n",
      " Epoch 1: 0.02s\n",
      "  Train acc: 68.52\n",
      "  Val acc  : 76.00\n",
      " Epoch 2: 15.08s\n",
      "  Train acc: 82.00\n",
      "  Val acc  : 85.33\n",
      " Epoch 3: 30.01s\n",
      "  Train acc: 87.11\n",
      "  Val acc  : 87.00\n",
      " Epoch 4: 44.85s\n",
      "  Train acc: 91.52\n",
      "  Val acc  : 88.67\n",
      " Epoch 5: 59.83s\n",
      "  Train acc: 92.93\n",
      "  Val acc  : 89.67\n",
      " Epoch 6: 74.49s\n",
      "  Train acc: 94.85\n",
      "  Val acc  : 90.00\n",
      " Epoch 7: 89.46s\n",
      "  Train acc: 95.96\n",
      "  Val acc  : 91.00\n",
      " Epoch 8: 104.27s\n",
      "  Train acc: 97.56\n",
      "  Val acc  : 91.67\n",
      " Epoch 9: 119.62s\n",
      "  Train acc: 97.59\n",
      "  Val acc  : 91.00\n",
      " Epoch 10: 134.52s\n",
      "  Train acc: 98.26\n",
      "  Val acc  : 91.67\n",
      " Epoch 11: 149.40s\n",
      "  Train acc: 98.81\n",
      "  Val acc  : 92.00\n",
      " Epoch 12: 164.33s\n",
      "  Train acc: 99.19\n",
      "  Val acc  : 90.67\n",
      " Epoch 13: 179.26s\n",
      "  Train acc: 98.89\n",
      "  Val acc  : 91.33\n",
      " Epoch 14: 194.52s\n",
      "  Train acc: 99.19\n",
      "  Val acc  : 92.00\n",
      " Epoch 15: 209.04s\n",
      "  Train acc: 99.59\n",
      "  Val acc  : 90.67\n",
      " Epoch 16: 224.28s\n",
      "  Train acc: 99.33\n",
      "  Val acc  : 92.00\n",
      " Epoch 17: 239.25s\n",
      "  Train acc: 99.67\n",
      "  Val acc  : 92.00\n",
      " Epoch 18: 254.25s\n",
      "  Train acc: 99.70\n",
      "  Val acc  : 91.33\n",
      " Epoch 19: 269.38s\n",
      "  Train acc: 99.74\n",
      "  Val acc  : 92.33\n",
      " Epoch 20: 284.28s\n",
      "  Train acc: 99.48\n",
      "  Val acc  : 91.33\n",
      " Epoch 21: 299.21s\n",
      "  Train acc: 99.37\n",
      "  Val acc  : 91.67\n",
      " Epoch 22: 312.76s\n",
      "  Train acc: 99.74\n",
      "  Val acc  : 91.33\n",
      " Epoch 23: 325.31s\n",
      "  Train acc: 99.67\n",
      "  Val acc  : 92.00\n",
      " Epoch 24: 345.43s\n",
      "  Train acc: 99.89\n",
      "  Val acc  : 92.67\n",
      " Epoch 25: 364.12s\n",
      "  Train acc: 99.74\n",
      "  Val acc  : 91.00\n",
      " Epoch 26: 381.61s\n",
      "  Train acc: 99.93\n",
      "  Val acc  : 92.67\n",
      " Epoch 27: 400.08s\n",
      "  Train acc: 99.89\n",
      "  Val acc  : 92.67\n",
      " Epoch 28: 415.18s\n",
      "  Train acc: 99.74\n",
      "  Val acc  : 91.67\n",
      " Epoch 29: 432.61s\n",
      "  Train acc: 99.85\n",
      "  Val acc  : 90.33\n",
      " Epoch 30: 451.11s\n",
      "  Train acc: 99.37\n",
      "  Val acc  : 89.67\n",
      " Epoch 31: 467.13s\n",
      "  Train acc: 99.74\n",
      "  Val acc  : 91.67\n",
      " Epoch 32: 485.21s\n",
      "  Train acc: 99.70\n",
      "  Val acc  : 92.33\n",
      " Epoch 33: 501.13s\n",
      "  Train acc: 99.78\n",
      "  Val acc  : 91.67\n",
      " Epoch 34: 516.51s\n",
      "  Train acc: 99.81\n",
      "  Val acc  : 91.67\n",
      "Finished after 34 epochs!\n",
      "\n",
      " completed in: 540.31s\n"
     ]
    }
   ],
   "source": [
    "\n",
    "# Fine-tune CNN for first fold\n",
    "best_val = 0\n",
    "no_improvement = 0\n",
    "max_no_improvement = 10\n",
    "print('Starting Fine-tune!')\n",
    "for epoch in range(epochs):\n",
    "    print(' Epoch {}: {:0.2f}s'.format(epoch+1, time()-t0))\n",
    "    # Train\n",
    "    acc_tr, loss_tr = run_epoch(epoch, cnn, dl_tr, cuda,\n",
    "        training=True, optimizer=optimizer)\n",
    "    print('  Train acc: {:0.2f}'.format(acc_tr))\n",
    "    # Val\n",
    "    acc_val, loss_val = run_epoch(epoch, cnn, dl_val, cuda,\n",
    "        training=False, optimizer=optimizer)\n",
    "    print('  Val acc  : {:0.2f}'.format(acc_val))\n",
    "    # Check performance for early stopping\n",
    "    if acc_val > best_val or epoch == 0:\n",
    "        best_val = acc_val\n",
    "        no_improvement = 0\n",
    "        best_model = cnn\n",
    "    else:\n",
    "        no_improvement += 1\n",
    "    if no_improvement >= max_no_improvement:\n",
    "        print('Finished after {} epochs!'.format(epoch+1))\n",
    "        break\n",
    "\n",
    "torch.save(best_model.state_dict()\n",
    "           ,'finetuned_l'+str(layers)+'_hd_'+str(hidden_size)+strftime('_%y-%m-%d-%H-%M',localtime(t00))+'.ckpt')\n",
    "\n",
    "print('\\n completed in: {:0.2f}s'.format(time()-t00))"
   ]
  },
  {
   "cell_type": "markdown",
   "metadata": {},
   "source": [
    "The accuracies seen here are not representative of the accuracies achieved when training on the full dataset until convergence. To do this, increase the number of epoches. This code demonstrates how a pre-trained CNN can be fine-tuned and evaluated using randomly selected train/validation splits."
   ]
  },
  {
   "cell_type": "code",
   "execution_count": 9,
   "metadata": {},
   "outputs": [],
   "source": [
    "from training import get_predictions\n",
    "import numpy as np"
   ]
  },
  {
   "cell_type": "code",
   "execution_count": 10,
   "metadata": {},
   "outputs": [
    {
     "name": "stdout",
     "output_type": "stream",
     "text": [
      "(3000, 1000) (3000,)\n"
     ]
    }
   ],
   "source": [
    "X_test = './data/X_test.npy'\n",
    "y_test = './data/y_test.npy'\n",
    "X = np.load(X_test)\n",
    "y = np.load(y_test)\n",
    "print(X.shape, y.shape)\n",
    "dl_test = spectral_dataloader(X, y, batch_size=batch_size, shuffle=True)"
   ]
  },
  {
   "cell_type": "code",
   "execution_count": 11,
   "metadata": {},
   "outputs": [
    {
     "name": "stdout",
     "output_type": "stream",
     "text": [
      "train accuracy = 100.0%\n",
      "validation accuracy = 91.66666666666666%\n",
      "test accuracy = 82.39999999999999%\n"
     ]
    }
   ],
   "source": [
    "probs_list_tr, preds_tr, acc_tr = get_predictions(best_model,dl_tr,cuda)\n",
    "probs_list_val, preds_val, acc_val= get_predictions(best_model,dl_val,cuda)\n",
    "probs_list_test, preds_test, acc_test = get_predictions(best_model,dl_test,cuda)\n",
    "print(\"train accuracy = {}%\".format(acc_tr))\n",
    "print(\"validation accuracy = {}%\".format(acc_val))\n",
    "print(\"test accuracy = {}%\".format(acc_test))"
   ]
  },
  {
   "cell_type": "code",
   "execution_count": null,
   "metadata": {},
   "outputs": [],
   "source": []
  },
  {
   "cell_type": "code",
   "execution_count": null,
   "metadata": {},
   "outputs": [],
   "source": []
  },
  {
   "cell_type": "code",
   "execution_count": null,
   "metadata": {},
   "outputs": [],
   "source": []
  }
 ],
 "metadata": {
  "kernelspec": {
   "display_name": "Python 3 (ipykernel)",
   "language": "python",
   "name": "python3"
  },
  "language_info": {
   "codemirror_mode": {
    "name": "ipython",
    "version": 3
   },
   "file_extension": ".py",
   "mimetype": "text/x-python",
   "name": "python",
   "nbconvert_exporter": "python",
   "pygments_lexer": "ipython3",
   "version": "3.7.10"
  }
 },
 "nbformat": 4,
 "nbformat_minor": 2
}
